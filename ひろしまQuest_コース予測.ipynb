{
  "nbformat": 4,
  "nbformat_minor": 0,
  "metadata": {
    "colab": {
      "name": "ひろしまQuest コース予測",
      "provenance": [],
      "collapsed_sections": [],
      "mount_file_id": "1S_xu3bZC-R0AGi3VqSX97hNfi-J2WJCq",
      "authorship_tag": "ABX9TyPQlyhVaxdMnsJ5pZMWRVm9",
      "include_colab_link": true
    },
    "kernelspec": {
      "name": "python3",
      "display_name": "Python 3"
    },
    "accelerator": "TPU"
  },
  "cells": [
    {
      "cell_type": "markdown",
      "metadata": {
        "id": "view-in-github",
        "colab_type": "text"
      },
      "source": [
        "<a href=\"https://colab.research.google.com/github/rikideguchi/Signate-HiroshimaQuest/blob/master/%E3%81%B2%E3%82%8D%E3%81%97%E3%81%BEQuest_%E3%82%B3%E3%83%BC%E3%82%B9%E4%BA%88%E6%B8%AC.ipynb\" target=\"_parent\"><img src=\"https://colab.research.google.com/assets/colab-badge.svg\" alt=\"Open In Colab\"/></a>"
      ]
    },
    {
      "cell_type": "code",
      "metadata": {
        "id": "Ed8MXeA9tSw5",
        "colab_type": "code",
        "colab": {}
      },
      "source": [
        "import pandas as pd\n",
        "import numpy as np"
      ],
      "execution_count": 0,
      "outputs": []
    },
    {
      "cell_type": "code",
      "metadata": {
        "id": "evUEsiWYtlWk",
        "colab_type": "code",
        "colab": {}
      },
      "source": [
        "train = pd.read_csv('../content/drive/My Drive/データ解析コンペ/Signate/ひろしまQuest 野球コンペ/コース部門/train_pitch.csv')\n",
        "test = pd.read_csv('../content/drive/My Drive/データ解析コンペ/Signate/ひろしまQuest 野球コンペ/コース部門/test_pitch.csv')"
      ],
      "execution_count": 0,
      "outputs": []
    },
    {
      "cell_type": "code",
      "metadata": {
        "id": "cWzF8lGHttgY",
        "colab_type": "code",
        "colab": {}
      },
      "source": [
        "data = pd.concat([train, test], ignore_index=True)"
      ],
      "execution_count": 0,
      "outputs": []
    },
    {
      "cell_type": "markdown",
      "metadata": {
        "id": "4HI8GD_JKAdj",
        "colab_type": "text"
      },
      "source": [
        "# Feature Engineering"
      ]
    },
    {
      "cell_type": "code",
      "metadata": {
        "id": "3jl5INdkuVlw",
        "colab_type": "code",
        "colab": {}
      },
      "source": [
        "data.drop(['試合内連番', '日付', '時刻', 'ホームチームID', 'アウェイチームID', '球場ID', '球場名', '試合種別詳細', \n",
        "           '表裏', 'イニング内打席数', '投手チームID', '投手登板順', '投手試合内対戦打者数', '打者チームID', '打者守備位置', \n",
        "           '打者試合内打席数', 'プレイ前ホームチーム得点数', 'プレイ前アウェイチーム得点数', '二塁走者ID', '三塁走者ID', \n",
        "           '一塁手ID', '二塁手ID', '三塁手ID', '遊撃手ID', '左翼手ID', '中堅手ID', '右翼手ID', '打者打席左右', '試合ID', '試合内投球数', '打者打順', '成績対象打者ID', \n",
        "           '投手イニング内投球数', 'イニング', '年度', '打席内投球数', '投手役割', 'プレイ前アウト数', '成績対象投手ID','成績対象打者ID'], axis = 1, inplace = True)"
      ],
      "execution_count": 0,
      "outputs": []
    },
    {
      "cell_type": "code",
      "metadata": {
        "id": "loPEpqG-xzLL",
        "colab_type": "code",
        "colab": {}
      },
      "source": [
        "data['プレイ前走者状況'].replace(['___', '_2_', '1__', '12_', '_23', '1_3', '__3', '123'], \n",
        "                         [0, 1, 2, 3, 4, 5, 6, 7], inplace = True)\n",
        "data['プレイ前走者状況'] = data['プレイ前走者状況'].astype(np.int8)\n",
        "\n",
        "data['投手試合内投球数'] = data['投手試合内投球数'].astype(np.int16)\n",
        "\n",
        "data['一塁走者ID'].fillna(0, inplace = True)\n",
        "data['一塁走者ID'] = data['一塁走者ID'].astype(np.int32)\n",
        "data['投手投球左右'].replace(['左', '右'], [0, 1], inplace = True)\n",
        "data['投手投球左右'] = data['投手投球左右'].astype(np.int8)\n",
        "data['データ内連番'] = data['データ内連番'].astype(np.int32)\n",
        "data['球種'] = data['球種'].astype(np.float16)\n",
        "data['投手ID'] = data['投手ID'].astype(np.int32)\n",
        "data['打者ID'] = data['打者ID'].astype(np.int32)\n",
        "data['プレイ前ボール数'] = data['プレイ前ボール数'].astype(np.int8)\n",
        "data['プレイ前ストライク数'] = data['プレイ前ストライク数'].astype(np.int8)\n",
        "data['プレイ前走者状況'] = data['プレイ前走者状況'].astype(np.int8)\n",
        "data['一塁走者ID'] = data['一塁走者ID'].astype(np.float32)\n",
        "data['捕手ID'] = data['捕手ID'].astype(np.int32)"
      ],
      "execution_count": 0,
      "outputs": []
    },
    {
      "cell_type": "code",
      "metadata": {
        "id": "2EhRqNwTuXVR",
        "colab_type": "code",
        "colab": {}
      },
      "source": [
        "train = data[:len(train)]\n",
        "test = data[len(train):]"
      ],
      "execution_count": 0,
      "outputs": []
    },
    {
      "cell_type": "code",
      "metadata": {
        "id": "lsGfcnLMxpxm",
        "colab_type": "code",
        "colab": {}
      },
      "source": [
        "y_train = train['投球位置区域']\n",
        "X_train = train.drop('投球位置区域', axis = 1)\n",
        "X_test = test.drop('投球位置区域', axis = 1)"
      ],
      "execution_count": 0,
      "outputs": []
    },
    {
      "cell_type": "code",
      "metadata": {
        "id": "bLeO999AyK8f",
        "colab_type": "code",
        "colab": {}
      },
      "source": [
        "from sklearn.model_selection import train_test_split\n",
        "\n",
        "X_train, X_valid, y_train, y_valid = \\\n",
        "    train_test_split(X_train, y_train, test_size = 0.3, \n",
        "                    random_state = 0, stratify = y_train)"
      ],
      "execution_count": 0,
      "outputs": []
    },
    {
      "cell_type": "code",
      "metadata": {
        "id": "jW7Iim98yNgI",
        "colab_type": "code",
        "colab": {}
      },
      "source": [
        "categorical_features = ['球種','投手ID', '投手投球左右','打者ID',\n",
        "       'プレイ前ボール数', 'プレイ前ストライク数', 'プレイ前走者状況', '一塁走者ID', '捕手ID']"
      ],
      "execution_count": 0,
      "outputs": []
    },
    {
      "cell_type": "markdown",
      "metadata": {
        "id": "nRgO4jVFJuBl",
        "colab_type": "text"
      },
      "source": [
        "# xgboost"
      ]
    },
    {
      "cell_type": "code",
      "metadata": {
        "id": "qCsW-6jVpSHK",
        "colab_type": "code",
        "colab": {}
      },
      "source": [
        "import xgboost as xgb\n",
        "from sklearn.metrics import log_loss\n",
        "\n",
        "dtrain = xgb.DMatrix(X_train, label = y_train)\n",
        "dvalid = xgb.DMatrix(X_valid, label = y_valid)\n",
        "dtest = xgb.DMatrix(X_test)\n",
        "\n",
        "params = {\n",
        "    'objective':'multi:softprob', \n",
        "    'eval_metric': 'mlogloss', \n",
        "    'num_class':13\n",
        "}\n",
        "\n",
        "num_round = 500\n",
        "\n",
        "watchlist = [(dtrain, 'train'), (dvalid, 'eva')]\n",
        "\n",
        "model = xgb.train(params, dtrain, num_round, evals = watchlist, early_stopping_rounds=10)\n",
        "\n",
        "y_pred = model.predict(dtest)"
      ],
      "execution_count": 0,
      "outputs": []
    },
    {
      "cell_type": "code",
      "metadata": {
        "id": "E_XY2FrpmTyh",
        "colab_type": "code",
        "colab": {}
      },
      "source": [
        "sub = pd.read_csv('../content/drive/My Drive/データ解析コンペ/Signate/ひろしまQuest 野球コンペ/コース部門/sample_submit_course.csv')\n",
        "sub = sub.join(pd.DataFrame(y_pred))\n",
        "sub.columns = ['0', 1, 1, 1, 1, 1, 1, 1, 1, 1, 1, 1, 1, 1, 0.076, 0.076, 0.076, 0.076, 0.076, 0.076,0.076, 0.076, 0.076, 0.076, 0.076, 0.076, 0.076]\n",
        "sub.to_csv('submission_xgboost.csv', index=False) "
      ],
      "execution_count": 0,
      "outputs": []
    },
    {
      "cell_type": "markdown",
      "metadata": {
        "id": "LCd1xPqhJ4qi",
        "colab_type": "text"
      },
      "source": [
        "# lightgbm"
      ]
    },
    {
      "cell_type": "code",
      "metadata": {
        "id": "-EnZSX9tyYPF",
        "colab_type": "code",
        "colab": {}
      },
      "source": [
        "import lightgbm as lgb\n",
        "\n",
        "lgb_train = lgb.Dataset(X_train, y_train, \n",
        "                       categorical_feature = categorical_features)\n",
        "lgb_eval = lgb.Dataset(X_valid, y_valid, reference = lgb_train, \n",
        "                      categorical_feature=categorical_features)\n",
        "params = {\n",
        "    'objective': 'multiclass', \n",
        "    'metric': {'multi_logloss'},\n",
        "    'num_class': 13\n",
        "}\n",
        "\n",
        "model = lgb.train(\n",
        "    params, lgb_train,\n",
        "    valid_sets=[lgb_train, lgb_eval],\n",
        "    num_boost_round = 1000,\n",
        "    verbose_eval=10,\n",
        "    early_stopping_rounds = 10)\n",
        "\n",
        "y_pred = model.predict(X_test, num_iteration = model.best_iteration)"
      ],
      "execution_count": 0,
      "outputs": []
    },
    {
      "cell_type": "code",
      "metadata": {
        "id": "iYlk3KQryfR1",
        "colab_type": "code",
        "colab": {}
      },
      "source": [
        "sub = pd.read_csv('../content/drive/My Drive/データ解析コンペ/Signate/ひろしまQuest 野球コンペ/コース部門/sample_submit_course.csv')\n",
        "sub = sub.join(pd.DataFrame(y_pred))\n",
        "sub.columns = ['0', 1, 1, 1, 1, 1, 1, 1, 1, 1, 1, 1, 1, 1, 0.076, 0.076, 0.076, 0.076, 0.076, 0.076,0.076, 0.076, 0.076, 0.076, 0.076, 0.076, 0.076]\n",
        "sub.to_csv('submission_lightgbm.csv', index=False) \n"
      ],
      "execution_count": 0,
      "outputs": []
    },
    {
      "cell_type": "code",
      "metadata": {
        "id": "rMEt4BGjCO8e",
        "colab_type": "code",
        "colab": {}
      },
      "source": [
        "from google.colab import files\n",
        "files.download('submission_xgboost.csv') "
      ],
      "execution_count": 0,
      "outputs": []
    },
    {
      "cell_type": "code",
      "metadata": {
        "id": "WSBjdeUxCoR_",
        "colab_type": "code",
        "colab": {}
      },
      "source": [
        ""
      ],
      "execution_count": 0,
      "outputs": []
    }
  ]
}