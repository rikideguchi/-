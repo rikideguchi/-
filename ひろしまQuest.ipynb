{
  "nbformat": 4,
  "nbformat_minor": 0,
  "metadata": {
    "colab": {
      "name": "ひろしまQuest",
      "provenance": [],
      "machine_shape": "hm",
      "mount_file_id": "1GJ_56RiYlLsD7S_UMTCZErP-OU9tv9yj",
      "authorship_tag": "ABX9TyP4gNl4x93iNWYJ7IYYahsO",
      "include_colab_link": true
    },
    "kernelspec": {
      "name": "python3",
      "display_name": "Python 3"
    }
  },
  "cells": [
    {
      "cell_type": "markdown",
      "metadata": {
        "id": "view-in-github",
        "colab_type": "text"
      },
      "source": [
        "<a href=\"https://colab.research.google.com/github/rikideguchi/Signate-HiroshimaQuest/blob/master/%E3%81%B2%E3%82%8D%E3%81%97%E3%81%BEQuest.ipynb\" target=\"_parent\"><img src=\"https://colab.research.google.com/assets/colab-badge.svg\" alt=\"Open In Colab\"/></a>"
      ]
    },
    {
      "cell_type": "code",
      "metadata": {
        "id": "tKYMeXqg7rDh",
        "colab_type": "code",
        "colab": {}
      },
      "source": [
        "import numpy as np\n",
        "import pandas as pd"
      ],
      "execution_count": 0,
      "outputs": []
    },
    {
      "cell_type": "code",
      "metadata": {
        "id": "fTfNuaGM74mG",
        "colab_type": "code",
        "colab": {}
      },
      "source": [
        "train = pd.read_csv('../train_pitch.csv')\n",
        "test = pd.read_csv('../test_pitch.csv')\n",
        "data = pd.concat([train, test], sort = False)"
      ],
      "execution_count": 0,
      "outputs": []
    },
    {
      "cell_type": "code",
      "metadata": {
        "id": "Hf-XE5WC872b",
        "colab_type": "code",
        "colab": {}
      },
      "source": [
        "data['打者守備位置'].replace(['投', '捕', '一', '二', '三', '遊', '左', '中', '右'], [0, 1, 1, 1, 1, 1, 1, 1, 1], inplace = True)\n",
        "\n",
        "data['プレイ前走者状況'].replace(['___', '_2_', '1__', '12_', '_23', '1_3', '__3', '123'], \n",
        "                         ['0', '1', '2', '3', '4', '5', '6', '7'], inplace = True)\n",
        "\n",
        "data['一塁走者ID'].fillna(0, inplace = True)\n",
        "\n",
        "data['プレイ前走者状況'] = data['プレイ前走者状況'].astype(np.int8)\n",
        "data['データ内連番'] = data['データ内連番'].astype(np.int32)\n",
        "data['球種'] = data['球種'].astype(np.float16)\n",
        "data['イニング'] = data['イニング'].astype(np.int8)\n",
        "data['投手ID'] = data['投手ID'].astype(np.int32)\n",
        "data['打者ID'] = data['打者ID'].astype(np.int32)\n",
        "data['プレイ前ボール数'] = data['プレイ前ボール数'].astype(np.int8)\n",
        "data['プレイ前ストライク数'] = data['プレイ前ストライク数'].astype(np.int8)\n",
        "data['プレイ前走者状況'] = data['プレイ前走者状況'].astype(np.int8)\n",
        "data['一塁走者ID'] = data['一塁走者ID'].astype(np.float32)\n",
        "data['捕手ID'] = data['捕手ID'].astype(np.int32)"
      ],
      "execution_count": 0,
      "outputs": []
    },
    {
      "cell_type": "code",
      "metadata": {
        "id": "4m3z3D9U-oN2",
        "colab_type": "code",
        "colab": {}
      },
      "source": [
        "data.drop(['年度','試合種別詳細', '表裏','日付', '時刻', '投手登板順', '投手試合内対戦打者数', '打者チームID', '打者試合内打席数', '球場名',\n",
        "           'プレイ前ホームチーム得点数','投手チームID','投手試合内投球数', 'プレイ前アウェイチーム得点数','プレイ前アウト数', '打者守備位置', \n",
        "           '一塁手ID', '二塁手ID','三塁手ID', '遊撃手ID', '左翼手ID', '中堅手ID', '右翼手ID','投手役割', '投手投球左右', '試合ID',\n",
        "           'ホームチームID', 'アウェイチームID', '成績対象投手ID', '三塁走者ID', '打者打順', '二塁走者ID', 'イニング内打席数', \n",
        "           '試合内連番', '打者打席左右', '投手イニング内投球数', '打席内投球数', '投球位置区域', '試合内投球数', '球場ID', '成績対象打者ID'], axis = 1, inplace = True)"
      ],
      "execution_count": 0,
      "outputs": []
    },
    {
      "cell_type": "code",
      "metadata": {
        "id": "RGN-a7VF-sWG",
        "colab_type": "code",
        "colab": {}
      },
      "source": [
        "data.rename(columns = {'データ内連番': 'ID', '球種':'Ball type',\n",
        "                       'イニング':'Inning',\n",
        "                       '投手ID':'Pitcher ID','投手役割':'Pitcher role', \n",
        "                       '投手投球左右':'L/R Pitcher','打者ID':'batter ID',\n",
        "                       'プレイ前ホームチーム得点数':'The sum of points',\n",
        "                       'プレイ前ボール数':'The amount of balls', 'プレイ前ストライク数':'the amount of strike', \n",
        "                       'プレイ前走者状況':'The runner situation','捕手ID':'catcher id', '一塁走者ID':'First runner'}, inplace = True)"
      ],
      "execution_count": 0,
      "outputs": []
    },
    {
      "cell_type": "code",
      "metadata": {
        "id": "Fxk_rWH3-vyU",
        "colab_type": "code",
        "colab": {}
      },
      "source": [
        "train = data[:len(train)]\n",
        "test = data[len(train):]"
      ],
      "execution_count": 0,
      "outputs": []
    },
    {
      "cell_type": "code",
      "metadata": {
        "id": "dEKvZm2c-yTl",
        "colab_type": "code",
        "colab": {}
      },
      "source": [
        "y_train = train['Ball type']\n",
        "X_train = train.drop('Ball type', axis = 1)\n",
        "X_test = test.drop('Ball type', axis = 1)"
      ],
      "execution_count": 0,
      "outputs": []
    },
    {
      "cell_type": "code",
      "metadata": {
        "id": "EKbMA6DP_1dX",
        "colab_type": "code",
        "colab": {}
      },
      "source": [
        "from sklearn.model_selection import train_test_split\n",
        "\n",
        "X_train, X_valid, y_train, y_valid = \\\n",
        "    train_test_split(X_train, y_train, test_size = 0.4, \n",
        "                    random_state = 0, stratify = y_train)"
      ],
      "execution_count": 0,
      "outputs": []
    },
    {
      "cell_type": "code",
      "metadata": {
        "id": "j9NROzCH_262",
        "colab_type": "code",
        "colab": {}
      },
      "source": [
        "categorical_features = ['Inning', 'Pitcher ID',\n",
        "       'batter ID','The amount of balls', 'the amount of strike',\n",
        "       'The runner situation', 'First runner',\n",
        "       'catcher id']"
      ],
      "execution_count": 0,
      "outputs": []
    },
    {
      "cell_type": "code",
      "metadata": {
        "id": "EXnq1iYp_5BJ",
        "colab_type": "code",
        "colab": {}
      },
      "source": [
        "import lightgbm as lgb\n",
        "import optuna\n",
        "from sklearn.metrics import log_loss\n",
        "\n",
        "def objective(trial):\n",
        "    params = {\n",
        "        'objective':'multiclass', \n",
        "        'max_bin': trial.suggest_int('max_bin', 255, 500), \n",
        "        'learning_rate':0.05, \n",
        "        'num_leaves': trial.suggest_int('num_leaves', 32, 128),\n",
        "        'num_class': 8\n",
        "    }\n",
        "    \n",
        "    lgb_train = lgb.Dataset(X_train, y_train, \n",
        "                           categorical_feature=categorical_features)\n",
        "    lgb_eval = lgb.Dataset(X_valid, y_valid, reference = lgb_train,  \n",
        "                          categorical_feature=categorical_features)\n",
        "    \n",
        "    model = lgb.train(params, lgb_train, \n",
        "                     valid_sets = [lgb_train, lgb_eval], \n",
        "                     verbose_eval = 50, \n",
        "                     num_boost_round = 200, \n",
        "                     early_stopping_rounds = 10)\n",
        "    \n",
        "    y_pred_valid = model.predict(X_valid, num_iteration=model.best_iteration)\n",
        "    score = log_loss(y_valid, y_pred_valid)\n",
        "    return score"
      ],
      "execution_count": 0,
      "outputs": []
    },
    {
      "cell_type": "code",
      "metadata": {
        "id": "0TMGGfrf__hp",
        "colab_type": "code",
        "outputId": "5a4bc701-7198-495b-d6ea-8b17aad8c21c",
        "colab": {
          "base_uri": "https://localhost:8080/",
          "height": 275
        }
      },
      "source": [
        "study = optuna.create_study(sampler = optuna.samplers.RandomSampler(seed = 0))\n",
        "study.optimize(objective, n_trials = 40)\n",
        "study.best_params"
      ],
      "execution_count": 0,
      "outputs": [
        {
          "output_type": "stream",
          "text": [
            "/usr/local/lib/python3.6/dist-packages/lightgbm/basic.py:1205: UserWarning:\n",
            "\n",
            "Using categorical_feature in Dataset.\n",
            "\n",
            "/usr/local/lib/python3.6/dist-packages/lightgbm/basic.py:762: UserWarning:\n",
            "\n",
            "categorical_feature in param dict is overridden.\n",
            "\n"
          ],
          "name": "stderr"
        },
        {
          "output_type": "stream",
          "text": [
            "Training until validation scores don't improve for 10 rounds.\n",
            "[50]\ttraining's multi_logloss: 1.11935\tvalid_1's multi_logloss: 1.23302\n",
            "[100]\ttraining's multi_logloss: 0.980298\tvalid_1's multi_logloss: 1.18336\n",
            "[150]\ttraining's multi_logloss: 0.901505\tvalid_1's multi_logloss: 1.17585\n",
            "Early stopping, best iteration is:\n",
            "[152]\ttraining's multi_logloss: 0.899254\tvalid_1's multi_logloss: 1.17584\n"
          ],
          "name": "stdout"
        }
      ]
    },
    {
      "cell_type": "code",
      "metadata": {
        "id": "hWB77Cl96_4W",
        "colab_type": "code",
        "colab": {}
      },
      "source": [
        ""
      ],
      "execution_count": 0,
      "outputs": []
    }
  ]
}