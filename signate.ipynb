{
 "cells": [
  {
   "cell_type": "code",
   "execution_count": 1,
   "metadata": {
    "_cell_guid": "b1076dfc-b9ad-4769-8c92-a6c4dae69d19",
    "_uuid": "8f2839f25d086af736a60e9eeb907d3b93b6e0e5"
   },
   "outputs": [],
   "source": [
    "import numpy as np\n",
    "import pandas as pd\n",
    "import matplotlib.pyplot as plt\n",
    "%matplotlib inline\n",
    "\n",
    "import seaborn as sns\n",
    "import warnings\n",
    "warnings.filterwarnings('ignore')"
   ]
  },
  {
   "cell_type": "code",
   "execution_count": 2,
   "metadata": {
    "_cell_guid": "79c7e3d0-c299-4dcb-8224-4455121ee9b0",
    "_uuid": "d629ff2d2480ee46fbb7e2d37f6b5fab8052498a"
   },
   "outputs": [],
   "source": [
    "train = pd.read_csv('../input/train_pitch.csv')\n",
    "test = pd.read_csv('../input/test_pitch.csv')"
   ]
  },
  {
   "cell_type": "code",
   "execution_count": 3,
   "metadata": {},
   "outputs": [],
   "source": [
    "data = pd.concat([train, test], sort = False)"
   ]
  },
  {
   "cell_type": "code",
   "execution_count": 4,
   "metadata": {},
   "outputs": [],
   "source": [
    "data = data.drop(['試合ID','日付', '年度','ホームチームID', 'アウェイチームID', '球場ID', '球場名', '試合種別詳細', '表裏', 'イニング内打席数', '投手チームID', '投手投球左右',\n",
    "                  '投手試合内投球数', '投手イニング内投球数','打者チームID', '打者打順', '打者守備位置', '打者試合内打席数',\n",
    "                  '一塁手ID','二塁手ID','三塁手ID', '遊撃手ID','左翼手ID','中堅手ID' ,'右翼手ID', '時刻', \n",
    "                  '一塁走者ID', '二塁走者ID', '三塁走者ID', 'プレイ前アウェイチーム得点数', 'プレイ前アウト数', '成績対象投手ID',\n",
    "                  '成績対象打者ID','投手役割', '投手登板順', '投手試合内対戦打者数'], axis = 1   )"
   ]
  },
  {
   "cell_type": "code",
   "execution_count": 5,
   "metadata": {},
   "outputs": [],
   "source": [
    "data['プレイ前走者状況'].replace(['___', '_2_', '1__', '12_', '_23', '1_3', '__3', '123'], ['0', '1', '2', '3', '4', '5', '6', '7'], inplace = True)"
   ]
  },
  {
   "cell_type": "code",
   "execution_count": 6,
   "metadata": {},
   "outputs": [],
   "source": [
    "data['プレイ前走者状況'] = data['プレイ前走者状況'].astype(int)"
   ]
  },
  {
   "cell_type": "code",
   "execution_count": 7,
   "metadata": {},
   "outputs": [],
   "source": [
    "data['打者打席左右'] = pd.get_dummies(train['打者打席左右'])"
   ]
  },
  {
   "cell_type": "code",
   "execution_count": 8,
   "metadata": {},
   "outputs": [],
   "source": [
    "data = data.rename(columns = {'データ内連番': 'ID', '球種':'Ball type', '投球位置区域':'Pitch area', '試合内連番': 'Pitch continuously', '試合内投球数':'the amount of pitch', 'イニング':'Inning', '打席内投球数':'The amount of pitch in a batter', '投手ID':'Pitcher ID',\n",
    "       '打者ID':'batter ID', '打者打席左右':'Left or Right', 'プレイ前ホームチーム得点数':'The sum of points', 'プレイ前ボール数':'The amount of balls', 'プレイ前ストライク数':'the amount of strike', 'プレイ前走者状況':'The runner situation',\n",
    "       '捕手ID':'catcher id'})"
   ]
  },
  {
   "cell_type": "code",
   "execution_count": 9,
   "metadata": {},
   "outputs": [
    {
     "data": {
      "text/html": [
       "<div>\n",
       "<style scoped>\n",
       "    .dataframe tbody tr th:only-of-type {\n",
       "        vertical-align: middle;\n",
       "    }\n",
       "\n",
       "    .dataframe tbody tr th {\n",
       "        vertical-align: top;\n",
       "    }\n",
       "\n",
       "    .dataframe thead th {\n",
       "        text-align: right;\n",
       "    }\n",
       "</style>\n",
       "<table border=\"1\" class=\"dataframe\">\n",
       "  <thead>\n",
       "    <tr style=\"text-align: right;\">\n",
       "      <th></th>\n",
       "      <th>ID</th>\n",
       "      <th>Ball type</th>\n",
       "      <th>Pitch area</th>\n",
       "      <th>Pitch continuously</th>\n",
       "      <th>the amount of pitch</th>\n",
       "      <th>Inning</th>\n",
       "      <th>The amount of pitch in a batter</th>\n",
       "      <th>Pitcher ID</th>\n",
       "      <th>batter ID</th>\n",
       "      <th>Left or Right</th>\n",
       "      <th>The sum of points</th>\n",
       "      <th>The amount of balls</th>\n",
       "      <th>the amount of strike</th>\n",
       "      <th>The runner situation</th>\n",
       "      <th>catcher id</th>\n",
       "    </tr>\n",
       "  </thead>\n",
       "  <tbody>\n",
       "    <tr>\n",
       "      <th>0</th>\n",
       "      <td>0</td>\n",
       "      <td>0.0</td>\n",
       "      <td>0.0</td>\n",
       "      <td>1</td>\n",
       "      <td>1</td>\n",
       "      <td>1</td>\n",
       "      <td>1</td>\n",
       "      <td>1500001</td>\n",
       "      <td>900410</td>\n",
       "      <td>0.0</td>\n",
       "      <td>0</td>\n",
       "      <td>0</td>\n",
       "      <td>0</td>\n",
       "      <td>0</td>\n",
       "      <td>1300027</td>\n",
       "    </tr>\n",
       "    <tr>\n",
       "      <th>1</th>\n",
       "      <td>1</td>\n",
       "      <td>0.0</td>\n",
       "      <td>8.0</td>\n",
       "      <td>2</td>\n",
       "      <td>2</td>\n",
       "      <td>1</td>\n",
       "      <td>2</td>\n",
       "      <td>1500001</td>\n",
       "      <td>900410</td>\n",
       "      <td>0.0</td>\n",
       "      <td>0</td>\n",
       "      <td>0</td>\n",
       "      <td>1</td>\n",
       "      <td>0</td>\n",
       "      <td>1300027</td>\n",
       "    </tr>\n",
       "    <tr>\n",
       "      <th>2</th>\n",
       "      <td>2</td>\n",
       "      <td>0.0</td>\n",
       "      <td>5.0</td>\n",
       "      <td>3</td>\n",
       "      <td>3</td>\n",
       "      <td>1</td>\n",
       "      <td>3</td>\n",
       "      <td>1500001</td>\n",
       "      <td>900410</td>\n",
       "      <td>0.0</td>\n",
       "      <td>0</td>\n",
       "      <td>0</td>\n",
       "      <td>2</td>\n",
       "      <td>0</td>\n",
       "      <td>1300027</td>\n",
       "    </tr>\n",
       "    <tr>\n",
       "      <th>3</th>\n",
       "      <td>3</td>\n",
       "      <td>0.0</td>\n",
       "      <td>12.0</td>\n",
       "      <td>4</td>\n",
       "      <td>4</td>\n",
       "      <td>1</td>\n",
       "      <td>1</td>\n",
       "      <td>1500001</td>\n",
       "      <td>11436</td>\n",
       "      <td>1.0</td>\n",
       "      <td>0</td>\n",
       "      <td>0</td>\n",
       "      <td>0</td>\n",
       "      <td>0</td>\n",
       "      <td>1300027</td>\n",
       "    </tr>\n",
       "    <tr>\n",
       "      <th>4</th>\n",
       "      <td>4</td>\n",
       "      <td>0.0</td>\n",
       "      <td>8.0</td>\n",
       "      <td>5</td>\n",
       "      <td>5</td>\n",
       "      <td>1</td>\n",
       "      <td>2</td>\n",
       "      <td>1500001</td>\n",
       "      <td>11436</td>\n",
       "      <td>1.0</td>\n",
       "      <td>0</td>\n",
       "      <td>0</td>\n",
       "      <td>1</td>\n",
       "      <td>0</td>\n",
       "      <td>1300027</td>\n",
       "    </tr>\n",
       "  </tbody>\n",
       "</table>\n",
       "</div>"
      ],
      "text/plain": [
       "   ID  Ball type  Pitch area  Pitch continuously  the amount of pitch  Inning  \\\n",
       "0   0        0.0         0.0                   1                    1       1   \n",
       "1   1        0.0         8.0                   2                    2       1   \n",
       "2   2        0.0         5.0                   3                    3       1   \n",
       "3   3        0.0        12.0                   4                    4       1   \n",
       "4   4        0.0         8.0                   5                    5       1   \n",
       "\n",
       "   The amount of pitch in a batter  Pitcher ID  batter ID  Left or Right  \\\n",
       "0                                1     1500001     900410            0.0   \n",
       "1                                2     1500001     900410            0.0   \n",
       "2                                3     1500001     900410            0.0   \n",
       "3                                1     1500001      11436            1.0   \n",
       "4                                2     1500001      11436            1.0   \n",
       "\n",
       "   The sum of points  The amount of balls  the amount of strike  \\\n",
       "0                  0                    0                     0   \n",
       "1                  0                    0                     1   \n",
       "2                  0                    0                     2   \n",
       "3                  0                    0                     0   \n",
       "4                  0                    0                     1   \n",
       "\n",
       "   The runner situation  catcher id  \n",
       "0                     0     1300027  \n",
       "1                     0     1300027  \n",
       "2                     0     1300027  \n",
       "3                     0     1300027  \n",
       "4                     0     1300027  "
      ]
     },
     "execution_count": 9,
     "metadata": {},
     "output_type": "execute_result"
    }
   ],
   "source": [
    "data.head()"
   ]
  },
  {
   "cell_type": "code",
   "execution_count": 10,
   "metadata": {},
   "outputs": [],
   "source": [
    "train = data[:len(train)]\n",
    "test = data[len(train):]"
   ]
  },
  {
   "cell_type": "code",
   "execution_count": 11,
   "metadata": {},
   "outputs": [],
   "source": [
    "y_train = train['Ball type']\n",
    "X_train = train.drop('Ball type', axis = 1)\n",
    "X_test = test.drop('Ball type', axis = 1)"
   ]
  },
  {
   "cell_type": "code",
   "execution_count": 12,
   "metadata": {},
   "outputs": [],
   "source": [
    "from sklearn.model_selection import train_test_split\n",
    "\n",
    "X_train, X_valid, y_train, y_valid = \\\n",
    "    train_test_split(X_train, y_train, test_size = 0.3, \n",
    "                    random_state = 0, stratify = y_train)"
   ]
  },
  {
   "cell_type": "code",
   "execution_count": 13,
   "metadata": {},
   "outputs": [],
   "source": [
    "categorical_features = ['Pitch area', 'Pitch continuously',\n",
    "       'the amount of pitch', 'Inning', 'The amount of pitch in a batter',\n",
    "       'Pitcher ID', 'batter ID', 'Left or Right', 'The sum of points',\n",
    "       'The amount of balls', 'the amount of strike', 'The runner situation',\n",
    "       'catcher id']"
   ]
  },
  {
   "cell_type": "code",
   "execution_count": 14,
   "metadata": {},
   "outputs": [],
   "source": [
    "import lightgbm as lgb\n",
    "\n",
    "lgb_train = lgb.Dataset(X_train, y_train, \n",
    "                       categorical_feature = categorical_features)\n",
    "lgb_eval = lgb.Dataset(X_valid, y_valid, reference = lgb_train, \n",
    "                      categorical_feature=categorical_features)"
   ]
  },
  {
   "cell_type": "code",
   "execution_count": 15,
   "metadata": {},
   "outputs": [],
   "source": [
    "params = {\n",
    "    'objective': 'multiclass', \n",
    "    'metric': {'multi_logloss'},\n",
    "    'num_class': 8\n",
    "}"
   ]
  },
  {
   "cell_type": "code",
   "execution_count": 16,
   "metadata": {},
   "outputs": [
    {
     "name": "stdout",
     "output_type": "stream",
     "text": [
      "Training until validation scores don't improve for 10 rounds\n",
      "[10]\ttraining's multi_logloss: 1.25476\tvalid_1's multi_logloss: 1.29674\n",
      "[20]\ttraining's multi_logloss: 1.11999\tvalid_1's multi_logloss: 1.19808\n",
      "[30]\ttraining's multi_logloss: 1.03987\tvalid_1's multi_logloss: 1.14956\n",
      "[40]\ttraining's multi_logloss: 0.98423\tvalid_1's multi_logloss: 1.12371\n",
      "[50]\ttraining's multi_logloss: 0.942421\tvalid_1's multi_logloss: 1.11012\n",
      "[60]\ttraining's multi_logloss: 0.907885\tvalid_1's multi_logloss: 1.10173\n",
      "[70]\ttraining's multi_logloss: 0.878128\tvalid_1's multi_logloss: 1.09706\n",
      "[80]\ttraining's multi_logloss: 0.851181\tvalid_1's multi_logloss: 1.09453\n",
      "[90]\ttraining's multi_logloss: 0.827199\tvalid_1's multi_logloss: 1.09373\n",
      "[100]\ttraining's multi_logloss: 0.804441\tvalid_1's multi_logloss: 1.09335\n",
      "Early stopping, best iteration is:\n",
      "[99]\ttraining's multi_logloss: 0.806588\tvalid_1's multi_logloss: 1.0933\n"
     ]
    }
   ],
   "source": [
    "model = lgb.train(\n",
    "    params, lgb_train,\n",
    "    valid_sets=[lgb_train, lgb_eval],\n",
    "    num_boost_round = 1000,\n",
    "    verbose_eval=10,\n",
    "    early_stopping_rounds = 10)"
   ]
  },
  {
   "cell_type": "code",
   "execution_count": 17,
   "metadata": {},
   "outputs": [],
   "source": [
    "y_pred = model.predict(X_test, num_iteration = model.best_iteration)"
   ]
  },
  {
   "cell_type": "code",
   "execution_count": 18,
   "metadata": {},
   "outputs": [],
   "source": [
    "sub = pd.read_csv('../input/sample_submit_ball_type.csv')\n",
    "sub = sub.join(pd.DataFrame(y_pred))\n",
    "sub.columns = ['ID', 'class1','class2','class3','class4','class5','class6','class7','class8', 'class9', 'class10', 'class11', 'class12', 'class13', 'class14','class15', 'class16']\n",
    "sub.to_csv('submission.csv', index=False) "
   ]
  },
  {
   "cell_type": "code",
   "execution_count": null,
   "metadata": {},
   "outputs": [],
   "source": []
  }
 ],
 "metadata": {
  "kernelspec": {
   "display_name": "Python 3",
   "language": "python",
   "name": "python3"
  },
  "language_info": {
   "codemirror_mode": {
    "name": "ipython",
    "version": 3
   },
   "file_extension": ".py",
   "mimetype": "text/x-python",
   "name": "python",
   "nbconvert_exporter": "python",
   "pygments_lexer": "ipython3",
   "version": "3.7.6"
  }
 },
 "nbformat": 4,
 "nbformat_minor": 4
}
